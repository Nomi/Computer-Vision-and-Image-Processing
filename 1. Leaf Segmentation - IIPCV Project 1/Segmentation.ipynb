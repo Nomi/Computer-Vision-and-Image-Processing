{
 "cells": [
  {
   "cell_type": "markdown",
   "metadata": {},
   "source": [
    "# Leaf Segmentation"
   ]
  },
  {
   "cell_type": "markdown",
   "metadata": {},
   "source": [
    "### Importing required libraries:"
   ]
  },
  {
   "cell_type": "code",
   "execution_count": 9,
   "metadata": {},
   "outputs": [],
   "source": [
    "import numpy as np\n",
    "import cv2\n",
    "import warnings\n",
    "import os\n",
    "import shutil\n",
    "from matplotlib import pyplot as plt\n",
    "import skimage\n",
    "from skimage.filters import threshold_otsu\n",
    "from skimage.measure import label, regionprops, regionprops_table\n",
    "import pandas as pd"
   ]
  },
  {
   "cell_type": "markdown",
   "metadata": {},
   "source": [
    "### Adding image path:"
   ]
  },
  {
   "cell_type": "code",
   "execution_count": 10,
   "metadata": {},
   "outputs": [],
   "source": [
    "path = 'attempt1.jpg'#'./testimg.JPG'\n",
    "presegpath='attempt1_segmented.jpg'\n",
    "# path = './test2.JPG'\n",
    "image = cv2.imread(path)\n",
    "presegimg=cv2.imread(presegpath)\n",
    "grayImage = cv2.cvtColor(cv2.cvtColor(image, cv2.COLOR_BGR2GRAY), cv2.COLOR_GRAY2BGR)\n",
    "denoisedImage = cv2.fastNlMeansDenoisingColored(image)"
   ]
  },
  {
   "cell_type": "markdown",
   "metadata": {},
   "source": [
    "### Function for removing everything except the leaf using masks on HSV:"
   ]
  },
  {
   "cell_type": "code",
   "execution_count": 11,
   "metadata": {},
   "outputs": [],
   "source": [
    "def getSegmentationMask(image):\n",
    "    #Creating mask for non-diseased part\n",
    "    hsv = cv2.cvtColor(image, cv2.COLOR_BGR2HSV)\n",
    "    # cv2.imwrite('./Output/hsv.JPG',hsv)\n",
    "    # lower_green = np.array ([30, 31, 22])\n",
    "    # upper_green = np.array ([85, 235,  195])\n",
    "    lower_green = (24,30,0)\n",
    "    upper_green = (90,240,180)\n",
    "    mask = cv2.inRange(hsv,lower_green,upper_green)\n",
    "    mask = cv2.morphologyEx(mask, cv2.MORPH_CLOSE, kernel=np.ones((8,8),dtype=np.uint8))\n",
    "    # cv2.imwrite('./Output/greenMask.JPG',mask)\n",
    "    #Creating mask for diseased parts\n",
    "    low_val=(5,95, 0)\n",
    "    high_val=(20, 255, 255)\n",
    "    maskDisease = cv2.inRange(hsv,low_val,high_val)#lower,upper)#low_val,high_val)\n",
    "    # cv2.imwrite('./Output/maskDiesease.JPG',maskDisease)\n",
    "\n",
    "    # remove noise\n",
    "    # maskDisease = cv2.morphologyEx(maskDisease, cv2.MORPH_CLOSE, kernel=np.ones((8,8),dtype=np.uint8))\n",
    "    mask=mask+maskDisease\n",
    "    # mask = cv2.morphologyEx(mask, cv2.MORPH_CLOSE, kernel=np.ones((8,8),dtype=np.uint8))\n",
    "\n",
    "    #blur\n",
    "    mask = cv2.medianBlur(mask,15)\n",
    "    #Contour detection:\n",
    "    conts = cv2.findContours(mask.copy(), cv2.RETR_EXTERNAL ,cv2.CHAIN_APPROX_SIMPLE)\n",
    "    conts = conts[0] #for openCV version 3.x and maybe below, it would be conts[1]\n",
    "    c = sorted(conts , key = cv2.contourArea , reverse = True)[0]\n",
    "    height , width = image.shape [:2]\n",
    "    mask = cv2.drawContours(np.zeros((height ,width ,3), np.uint8), [c], 0, (255 ,255 ,255), cv2.FILLED)\n",
    "    mask = cv2.cvtColor(mask ,cv2.COLOR_BGR2GRAY)\n",
    "    # cv2.imwrite('finalMask.JPG',mask)\n",
    "    return [mask,maskDisease]\n"
   ]
  },
  {
   "cell_type": "markdown",
   "metadata": {},
   "source": [
    "### Function for getting segmented image:"
   ]
  },
  {
   "cell_type": "code",
   "execution_count": 12,
   "metadata": {},
   "outputs": [],
   "source": [
    "def getSegmentedImage(image):\n",
    "    [mask,maskDisease] = getSegmentationMask(image)\n",
    "    segmentedImg = cv2.bitwise_and(image,image,mask=mask)\n",
    "    # # segmentedImg = cv2.bitwise_and(segmentedImg,cv2.bitwise_not(mask2))\n",
    "    # # segmentedImg = cv2.bitwise_and(segmentedImg,cv2.bitwise_not(mask3))\n",
    "    # cv2.imshow(\"Mask: \",mask)\n",
    "    # cv2.imshow(\"Disease Mask: \",maskDisease)\n",
    "    # cv2.imshow(\"Masked: \",segmentedImg)\n",
    "    # cv2.imshow('Original: ',image)\n",
    "    # # cv2.imshow(\"Grayscale: \",grayImage)\n",
    "    # cv2.waitKey(0)\n",
    "    # cv2.destroyAllWindows()\n",
    "    return segmentedImg"
   ]
  },
  {
   "cell_type": "markdown",
   "metadata": {},
   "source": [
    "### Comparing pre segmented and our segmented:"
   ]
  },
  {
   "cell_type": "code",
   "execution_count": 13,
   "metadata": {},
   "outputs": [],
   "source": [
    "import re \n",
    "def findbackground(path):\n",
    "    return re.sub(r'color_images','ground_truth',path)\n",
    "\n",
    "def Dice(segmentation,ground):\n",
    "    \n",
    "    \n",
    "    intersection=cv2.bitwise_and(segmentation,ground)\n",
    "    intersection=np.count_nonzero(intersection>0)\n",
    "    A=np.count_nonzero(segmentation>0)\n",
    "    B=np.count_nonzero(ground>0)\n",
    "    return 2 * intersection /(A+B)\n",
    "\n",
    "def IntersectionOverUnion(segmentation,ground):\n",
    "    intersection=cv2.bitwise_and(segmentation,ground)\n",
    "    intersection=np.count_nonzero(intersection>0)\n",
    "    image_union=cv2.bitwise_or(segmentation,ground)\n",
    "    image_union=np.count_nonzero(image_union>0)\n",
    "    return intersection/image_union\n",
    "\n",
    "def measureAccuracy(segmentedImg,preSegmentedImg):\n",
    "    IoU=IntersectionOverUnion(segmentedImg,preSegmentedImg)\n",
    "    DiceCoeff = Dice(segmentedImg,preSegmentedImg)\n",
    "    pd\n",
    "    # print('IoU', IoU)\n",
    "    # print('Dice', DiceCoeff)\n",
    "    return [IoU,DiceCoeff]\n"
   ]
  },
  {
   "cell_type": "markdown",
   "metadata": {},
   "source": [
    "### Execute the main part:"
   ]
  },
  {
   "cell_type": "code",
   "execution_count": 14,
   "metadata": {},
   "outputs": [
    {
     "name": "stdout",
     "output_type": "stream",
     "text": [
      "AvgIoU = 0.781666479688154\n",
      "AvgDice = 0.8403977039003053\n",
      "imgCount = 1383\n",
      "{'Average Dice': 0.8403977039003053, 'Average IoU': 0.781666479688154, 'Number of Images': 1383}\n"
     ]
    }
   ],
   "source": [
    "sumIoU=0\n",
    "sumDice=0\n",
    "imgCount=0\n",
    "unsegBaseDir = './Dataset - Unsegmented/'\n",
    "segBaseDir = './Dataset - Segmented/'\n",
    "outputDir = os.path.abspath('./Output')\n",
    "if(os.path.exists(outputDir)):\n",
    "    shutil.rmtree(outputDir)\n",
    "os.mkdir(outputDir)\n",
    "df = pd.DataFrame(columns=['Original Image','IoU','Dice'])\n",
    "with warnings.catch_warnings():\n",
    "    warnings.simplefilter(\"ignore\",category=FutureWarning)\n",
    "    for filename in os.scandir(unsegBaseDir):\n",
    "        if filename.is_file():\n",
    "            # print(filename.name)\n",
    "            currSegImgDir=segBaseDir+str.replace(filename.name,'.JPG','_final_masked.JPG')\n",
    "            currImg = cv2.imread(filename.path)\n",
    "            currSegImg = cv2.imread(currSegImgDir)\n",
    "            ourSegImg = getSegmentedImage(currImg)\n",
    "            [IoU,DiceC] = measureAccuracy(ourSegImg,currSegImg)\n",
    "            df = df.append({'Original Image':filename.name,'IoU':IoU,'Dice':DiceC},ignore_index=True)\n",
    "            sumIoU+=IoU\n",
    "            sumDice+=DiceC\n",
    "            imgCount+=1\n",
    "            cv2.imwrite(outputDir+'/'+str.replace(filename.name,'.JPG','_MY_SEGMENTED.JPG'), ourSegImg)\n",
    "# print(lastImgDir)\n",
    "# img=cv2.imread(lastImgDir)\n",
    "# cv2.imshow('Img:',img)\n",
    "# cv2.waitKey(0)\n",
    "# cv2.destroyAllWindows()\n",
    "AvgDice = sumDice/imgCount\n",
    "AvgIoU=sumIoU/imgCount\n",
    "print(f\"{AvgIoU = }\\n{AvgDice = }\\n{imgCount = }\")\n",
    "print({'Average Dice':AvgDice,'Average IoU':AvgIoU,'Number of Images':imgCount})"
   ]
  },
  {
   "cell_type": "code",
   "execution_count": 15,
   "metadata": {},
   "outputs": [
    {
     "name": "stdout",
     "output_type": "stream",
     "text": [
      "                                         Original Image       IoU      Dice\n",
      "588   6de1674f-2bea-4388-9a5c-d40ff2fa44fc___FAM_B.M...  0.870903  0.903124\n",
      "1137  d2d21ea0-7616-4f7a-9b35-1909d72de459___FAM_B.M...  0.856063    0.8963\n",
      "536   63f3535c-0927-442e-a4ee-ffce62296cb9___FAM_B.M...   0.85108   0.88813\n",
      "874   a4b05803-14e4-4551-acb5-ace444f7dac4___FAM_B.M...  0.849156  0.892378\n",
      "908   ab8a8cb6-8fd5-4bb4-934a-a37dabacd13b___FAM_B.M...  0.848467   0.89153\n",
      "...                                                 ...       ...       ...\n",
      "797   95308c47-b376-46b5-b184-61ace51c2245___FAM_B.M...  0.651918  0.759856\n",
      "8     02223cc6-30d2-408d-a091-65257d044a50___FAM_B.M...  0.651031  0.750796\n",
      "669   7b47e162-0e3e-41c7-93fe-63a1466d7609___FAM_B.M...   0.64327  0.751771\n",
      "175   20ab9746-0822-4b1b-9785-759d35ffff95___FAM_B.M...  0.537574  0.675921\n",
      "774   8f9970b4-19ad-45cd-8544-1a01360c62cf___FAM_B.M...   0.52861  0.663431\n",
      "\n",
      "[1383 rows x 3 columns]\n",
      "0.781666479688154\n",
      "0.785231212230284\n"
     ]
    }
   ],
   "source": [
    "print(df.sort_values('IoU', ascending=False))\n",
    "print(df['IoU'].mean())\n",
    "print(df['IoU'].median())"
   ]
  },
  {
   "cell_type": "code",
   "execution_count": 16,
   "metadata": {},
   "outputs": [
    {
     "name": "stdout",
     "output_type": "stream",
     "text": [
      "                                         Original Image       IoU      Dice\n",
      "588   6de1674f-2bea-4388-9a5c-d40ff2fa44fc___FAM_B.M...  0.870903  0.903124\n",
      "1137  d2d21ea0-7616-4f7a-9b35-1909d72de459___FAM_B.M...  0.856063    0.8963\n",
      "874   a4b05803-14e4-4551-acb5-ace444f7dac4___FAM_B.M...  0.849156  0.892378\n",
      "908   ab8a8cb6-8fd5-4bb4-934a-a37dabacd13b___FAM_B.M...  0.848467   0.89153\n",
      "315   3ac35d46-56c4-4137-b7a3-7023dc0beb41___FAM_B.M...  0.846008  0.889725\n",
      "...                                                 ...       ...       ...\n",
      "975   b90c684d-49c7-4e9f-88a2-8b8b726f4b90___FAM_B.M...  0.653592  0.756452\n",
      "669   7b47e162-0e3e-41c7-93fe-63a1466d7609___FAM_B.M...   0.64327  0.751771\n",
      "8     02223cc6-30d2-408d-a091-65257d044a50___FAM_B.M...  0.651031  0.750796\n",
      "175   20ab9746-0822-4b1b-9785-759d35ffff95___FAM_B.M...  0.537574  0.675921\n",
      "774   8f9970b4-19ad-45cd-8544-1a01360c62cf___FAM_B.M...   0.52861  0.663431\n",
      "\n",
      "[1383 rows x 3 columns]\n",
      "0.8403977039003053\n",
      "0.84257407568424\n"
     ]
    }
   ],
   "source": [
    "print(df.sort_values('Dice', ascending=False))\n",
    "print(df['Dice'].mean())\n",
    "print(df['Dice'].median())"
   ]
  }
 ],
 "metadata": {
  "interpreter": {
   "hash": "b40fb168079538cab6944191a1ab85b8626a1116cdb3d88dba78decbc4dff4fc"
  },
  "kernelspec": {
   "display_name": "Python 3.10.9 64-bit (windows store)",
   "language": "python",
   "name": "python3"
  },
  "language_info": {
   "codemirror_mode": {
    "name": "ipython",
    "version": 3
   },
   "file_extension": ".py",
   "mimetype": "text/x-python",
   "name": "python",
   "nbconvert_exporter": "python",
   "pygments_lexer": "ipython3",
   "version": "3.10.9"
  },
  "orig_nbformat": 4
 },
 "nbformat": 4,
 "nbformat_minor": 2
}
